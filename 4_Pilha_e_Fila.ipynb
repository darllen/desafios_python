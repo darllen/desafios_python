{
  "nbformat": 4,
  "nbformat_minor": 0,
  "metadata": {
    "colab": {
      "provenance": [],
      "toc_visible": true,
      "authorship_tag": "ABX9TyNEDPb6aH16+4lA7Jpj3euw",
      "include_colab_link": true
    },
    "kernelspec": {
      "name": "python3",
      "display_name": "Python 3"
    },
    "language_info": {
      "name": "python"
    }
  },
  "cells": [
    {
      "cell_type": "markdown",
      "metadata": {
        "id": "view-in-github",
        "colab_type": "text"
      },
      "source": [
        "<a href=\"https://colab.research.google.com/github/darllen/desafios_python/blob/main/4_Pilha_e_Fila.ipynb\" target=\"_parent\"><img src=\"https://colab.research.google.com/assets/colab-badge.svg\" alt=\"Open In Colab\"/></a>"
      ]
    },
    {
      "cell_type": "markdown",
      "source": [
        "# Pilha [Preto]\n",
        "\n",
        "Sem usar append e pop\n",
        "\n",
        "Usando o self.next\n"
      ],
      "metadata": {
        "id": "akH_L3OOYIjj"
      }
    },
    {
      "cell_type": "code",
      "source": [
        "class Node:\n",
        "    def __init__(self, data):\n",
        "        self.data = data\n",
        "        self.next = None\n",
        "\n",
        "class Stack:\n",
        "    def __init__(self):\n",
        "        self.topo = None\n",
        "        self._size = 0\n",
        "    \n",
        "    def push(self, elemento):\n",
        "        #insere elemento na pilha\n",
        "        node = Node(elemento)\n",
        "        node.next = self.topo\n",
        "        self.topo = node\n",
        "\n",
        "        self._size += 1\n",
        "\n",
        "    def pop(self):\n",
        "        #remove elemento do topo da pilha (fazer o topo receber o valor do anterior dele)\n",
        "        if self._size > 0:\n",
        "            node = self.topo\n",
        "            self.topo = self.topo.next\n",
        "            self._size -= 1\n",
        "            return node\n",
        "        else:\n",
        "            return 'Pilha vazia'\n",
        "\n",
        "    def peek(self):\n",
        "        # retorna o topo sem remover\n",
        "        if self._size > 0:\n",
        "            return self.topo\n",
        "        else:\n",
        "            return 'Pilha vazia'\n",
        "\n",
        "\n",
        "    def __len__(self):\n",
        "        return self._size\n",
        "\n",
        "    def __repr__(self):\n",
        "        r = ''\n",
        "        ponteiro = self.topo\n",
        "\n",
        "        while ponteiro is not None:\n",
        "            r = r + str(ponteiro.data) + '\\n'\n",
        "            ponteiro = ponteiro.next\n",
        "        \n",
        "        return r\n",
        "\n",
        "    def __str__(self):\n",
        "        return self.__repr__()\n",
        "\n",
        "\n",
        "pilha = Stack()\n",
        "\n",
        "pilha.push(4)\n",
        "pilha.push(7)\n",
        "pilha.push(8)\n",
        "pilha.push(2)\n",
        "pilha.push(5)\n",
        "pilha.push(3)\n",
        "    \n",
        "print(pilha)\n",
        "print('=====')\n",
        "print(pilha.peek().data)\n",
        "print('=====')\n",
        "pilha.pop()\n",
        "print(pilha)\n",
        "\n"
      ],
      "metadata": {
        "colab": {
          "base_uri": "https://localhost:8080/"
        },
        "id": "nJn3Vr6smmW3",
        "outputId": "471b4a98-9429-40da-b7d4-cfdd847224f7"
      },
      "execution_count": null,
      "outputs": [
        {
          "output_type": "stream",
          "name": "stdout",
          "text": [
            "3\n",
            "5\n",
            "2\n",
            "8\n",
            "7\n",
            "4\n",
            "\n",
            "=====\n",
            "3\n",
            "=====\n",
            "5\n",
            "2\n",
            "8\n",
            "7\n",
            "4\n",
            "\n"
          ]
        }
      ]
    },
    {
      "cell_type": "markdown",
      "source": [
        "\n",
        "#Pilha [Branco]\n",
        "\n",
        "Usando o Append e Pop\n",
        "\n",
        "Sem usar o self.next\n",
        "\n"
      ],
      "metadata": {
        "id": "HiPzCav7wWhA"
      }
    },
    {
      "cell_type": "code",
      "source": [
        "class Stack:\n",
        "    def __init__(self):\n",
        "        self.data = []\n",
        "\n",
        "    def isEmpty(self): \n",
        "        if self.size() == 0:\n",
        "            return True\n",
        "        else:\n",
        "            return False\n",
        "\n",
        "    def push(self, elemento):\n",
        "        self.data.append(elemento)\n",
        "\n",
        "    def pop(self):\n",
        "        if self.size() > 0:\n",
        "            return self.data.pop()\n",
        "        else:\n",
        "            return 'Pilha vazia'\n",
        "\n",
        "    def peek(self): #retorna o item que tá no topo\n",
        "        if self.size() > 0:\n",
        "            return self.data[len(self.data)-1]\n",
        "        else:\n",
        "            return 'Pilha vazia'\n",
        "\n",
        "    def size(self):\n",
        "        return len(self.data)\n",
        "\n",
        "    def printStack(self):\n",
        "        for i in range(self.size(), 0, -1):\n",
        "            print(self.data[i-1], end='\\n')\n",
        "\n",
        "pilha = Stack() \n",
        "if pilha.isEmpty() is True:\n",
        "    for i in range(1,6):\n",
        "        pilha.push(i)\n",
        "\n",
        "\n",
        "pilha.printStack()\n",
        "pilha.pop()\n",
        "print()\n",
        "pilha.printStack()"
      ],
      "metadata": {
        "colab": {
          "base_uri": "https://localhost:8080/"
        },
        "id": "f6u7C4RLvj_O",
        "outputId": "90b2e003-0a2b-4bbf-8ab0-2e4cd208989d"
      },
      "execution_count": null,
      "outputs": [
        {
          "output_type": "stream",
          "name": "stdout",
          "text": [
            "5\n",
            "4\n",
            "3\n",
            "2\n",
            "1\n",
            "\n",
            "4\n",
            "3\n",
            "2\n",
            "1\n"
          ]
        }
      ]
    },
    {
      "cell_type": "markdown",
      "source": [
        "##Questão2\n",
        "Usando uma notação semelhante à exibida no vídeo do prof. Fábio\n",
        "(https://www.youtube.com/watch?v=EocahNeZcn0), exiba a configuração de uma pilha após\n",
        "a execução de cada uma das operações: push(8), push(2), push(9), pop(), push(3), pop(), pop()"
      ],
      "metadata": {
        "id": "gYqAJVDrbaVx"
      }
    },
    {
      "cell_type": "code",
      "source": [
        "class Stack:\n",
        "    def __init__(self):\n",
        "        self.data = []\n",
        "\n",
        "    def isEmpty(self): \n",
        "        if self.size() == 0:\n",
        "            return True\n",
        "        else:\n",
        "            return False\n",
        "\n",
        "    def push(self, elemento):\n",
        "        self.data.append(elemento)\n",
        "\n",
        "    def pop(self):\n",
        "        if self.size() > 0:\n",
        "            return self.data.pop()\n",
        "        else:\n",
        "            return 'Pilha vazia'\n",
        "\n",
        "    def peek(self): #retorna o item que tá no topo\n",
        "        if self.size() > 0:\n",
        "            return self.data[len(self.data)-1]\n",
        "        else:\n",
        "            return 'Pilha vazia'\n",
        "\n",
        "    def size(self):\n",
        "        return len(self.data)\n",
        "\n",
        "    def printStack(self):\n",
        "        for i in range(self.size(), 0, -1):\n",
        "            print(self.data[i-1], end='\\n')\n",
        "\n",
        "\n",
        "pilha = Stack() #criei a pilha\n",
        "print(pilha.isEmpty()) # ela tá vazia? True\n",
        "pilha.push(8) #add 8\n",
        "pilha.push(2) #add 2\n",
        "pilha.push(9) #add 9\n",
        "pilha.pop() #retirei o 9\n",
        "pilha.push(3) #add o 3\n",
        "pilha.pop() #retirei o 3\n",
        "pilha.pop() #retirei o 2\n",
        "\n",
        "pilha.printStack()"
      ],
      "metadata": {
        "colab": {
          "base_uri": "https://localhost:8080/"
        },
        "id": "9Aw-C-VPSr2a",
        "outputId": "980b228e-0865-44cc-ade9-15ba249bf16d"
      },
      "execution_count": null,
      "outputs": [
        {
          "output_type": "stream",
          "name": "stdout",
          "text": [
            "True\n",
            "8\n"
          ]
        }
      ]
    },
    {
      "cell_type": "markdown",
      "source": [
        "##Questão3\n",
        "\n",
        "Uma sequência de operações de inserção (I) e eliminação (E) em uma pilha é dita válida se ela\n",
        "tem igual número de Is e Es e todas as operações podem ser efetuadas na pilha, ou seja, a\n",
        "eliminação só pode acontecer se a pilha não estiver vazia. Implemente um programa que\n",
        "permita determinar se uma sequência (ex: IIEE) é válida ou não."
      ],
      "metadata": {
        "id": "hM8gzr-bdja0"
      }
    },
    {
      "cell_type": "code",
      "source": [
        "class Stack:\n",
        "    def __init__(self):\n",
        "        self.data = []\n",
        "\n",
        "    def isEmpty(self): \n",
        "        if self.size() == 0:\n",
        "            return True\n",
        "        else:\n",
        "            return False\n",
        "\n",
        "    def push(self, elemento):\n",
        "        self.data.append(elemento)\n",
        "\n",
        "    def pop(self):\n",
        "        if self.size() > 0:\n",
        "            return self.data.pop()\n",
        "        else:\n",
        "            return 'Pilha vazia'\n",
        "\n",
        "    def peek(self): #retorna o item que tá no topo\n",
        "        if self.size() > 0:\n",
        "            return self.data[len(self.data)-1]\n",
        "        else:\n",
        "            return 'Pilha vazia'\n",
        "\n",
        "    def size(self):\n",
        "        return len(self.data)\n",
        "\n",
        "    def printStack(self):\n",
        "        for i in range(self.size(), 0, -1):\n",
        "            print(self.data[i-1], end='\\n')\n",
        "\n",
        "    \n",
        "sequencia = input().upper()\n",
        "pilha = Stack()\n",
        "for e in sequencia:\n",
        "    if e == 'I':\n",
        "        pilha.push(1)\n",
        "    elif e == 'E':\n",
        "        pilha.pop()\n",
        "\n",
        "if pilha.data == []:\n",
        "    print('VÁLIDA')\n",
        "else:\n",
        "    print('INVÁLIDA')"
      ],
      "metadata": {
        "colab": {
          "base_uri": "https://localhost:8080/"
        },
        "id": "ODWYPtCDxvB5",
        "outputId": "9a1ba6a4-b9aa-4ee5-9e5a-a86201cc044b"
      },
      "execution_count": null,
      "outputs": [
        {
          "output_type": "stream",
          "name": "stdout",
          "text": [
            "ei\n",
            "INVÁLIDA\n"
          ]
        }
      ]
    },
    {
      "cell_type": "markdown",
      "source": [
        "##Questao4\n",
        "\n",
        "Considere uma pilha que armazene caracteres. Faça uma função para determinar se uma\n",
        "string é da forma XY, onde X é uma cadeia formada por caracteres arbitrários e Y é o reverso\n",
        "de X. Por exemplo, se X = ABCD, então Y = DCBA. Considere que X e Y são duas strings distintas."
      ],
      "metadata": {
        "id": "_n9kLeYpeTzl"
      }
    },
    {
      "cell_type": "code",
      "source": [
        "class Stack:\n",
        "    def __init__(self):\n",
        "        self.data = []\n",
        "\n",
        "    def isEmpty(self): \n",
        "        if self.size() == 0:\n",
        "            return True\n",
        "        else:\n",
        "            return False\n",
        "\n",
        "    def push(self, elemento):\n",
        "        self.data.append(elemento)\n",
        "\n",
        "    def pop(self):\n",
        "        if self.size() > 0:\n",
        "            return self.data.pop()\n",
        "        else:\n",
        "            return 'Pilha vazia'\n",
        "\n",
        "    def peek(self): #retorna o item que tá no topo\n",
        "        if self.size() > 0:\n",
        "            return self.data[len(self.data)-1]\n",
        "        else:\n",
        "            return 'Pilha vazia'\n",
        "\n",
        "    def size(self):\n",
        "        return len(self.data)\n",
        "\n",
        "    def printStack(self):\n",
        "        for i in range(self.size(), 0, -1):\n",
        "            print(self.data[i-1], end='\\n')\n",
        "\n",
        "\n",
        "\n",
        "def validar(a, b):\n",
        "    if a == b:\n",
        "        print('válido')\n",
        "    else:\n",
        "        print('inválido')\n",
        "\n",
        "pilhaX = Stack()\n",
        "pilhaY = Stack()\n",
        "pilhaZ = Stack()\n",
        "\n",
        "x = input()\n",
        "y = input()\n",
        "\n",
        "for e in x:\n",
        "    pilhaX.push(e)\n",
        "    pilhaZ.push(e)\n",
        "    pilhaY.push(pilhaZ.pop())\n",
        "\n",
        "\n",
        "validar(pilhaX.data, pilhaY.data)\n",
        "\n"
      ],
      "metadata": {
        "colab": {
          "base_uri": "https://localhost:8080/"
        },
        "id": "r1XH5eizAlUH",
        "outputId": "661596b8-bfb6-49d7-e63e-3d344fa68442"
      },
      "execution_count": null,
      "outputs": [
        {
          "output_type": "stream",
          "name": "stdout",
          "text": [
            "ABC\n",
            "CBA\n",
            "válido\n"
          ]
        }
      ]
    },
    {
      "cell_type": "markdown",
      "source": [
        "## Questao5\n",
        "Utilizando uma pilha, crie um programa que verifica se as expressões\n",
        "contendo parênteses estão corretas ou incorretas.\n",
        "\n",
        "**Entrada**\n",
        "\n",
        "A primeira linha contém uma expressão contendo um quantidade não determinada de '(' e ')' em qualquer ordem.\n",
        "\n",
        "**Saída**\n",
        "\n",
        "Seu programa deve produzir uma única linha, indicando se a expressão está CORRETA ou INCORRETA."
      ],
      "metadata": {
        "id": "Qn7cDiQ8VBvH"
      }
    },
    {
      "cell_type": "code",
      "source": [
        "class Stack:\n",
        "    def __init__(self):\n",
        "        self.data = []\n",
        "\n",
        "    def push(self, elemento):\n",
        "        self.data.append(elemento)\n",
        "\n",
        "    def printStack(self):\n",
        "        for i in range(self.size(), 0, -1):\n",
        "            print(self.data[i-1], end='')\n",
        "\n",
        "    def verificar(self):\n",
        "        if self.data[0] == ')':\n",
        "            return print('INCORRETA')\n",
        "\n",
        "        count = 0\n",
        "        for e in self.data:\n",
        "            if e == ')':\n",
        "                count += 1\n",
        "            else:\n",
        "                count -= 1\n",
        "\n",
        "        if count == 0:\n",
        "            return print('CORRETA')\n",
        "        else:\n",
        "            return print('INCORRETA')\n",
        "\n",
        "entrada = input()\n",
        "pilha = Stack()\n",
        "\n",
        "[pilha.push(e) for e in entrada]\n",
        "\n",
        "pilha.verificar()\n",
        "    \n",
        "    "
      ],
      "metadata": {
        "colab": {
          "base_uri": "https://localhost:8080/"
        },
        "id": "aHSFflnXVH81",
        "outputId": "958a2a13-477e-4349-beae-6e75739e39a6"
      },
      "execution_count": null,
      "outputs": [
        {
          "output_type": "stream",
          "name": "stdout",
          "text": [
            "()()))\n",
            "INCORRETA\n"
          ]
        }
      ]
    },
    {
      "cell_type": "markdown",
      "source": [
        "# Fila\n",
        "\n",
        "Primeiro que chega é o primeiro que sai"
      ],
      "metadata": {
        "id": "G9ds8pJGX5n0"
      }
    },
    {
      "cell_type": "code",
      "source": [
        "class Queue:\n",
        "    def __init__(self):\n",
        "        self.data = []\n",
        "\n",
        "    def isEmpty(self):\n",
        "        if self.size() == 0:\n",
        "            return True\n",
        "        else:\n",
        "            return False\n",
        "    def enqueue(self, elemento):\n",
        "        self.data.insert(0, elemento) \n",
        "\n",
        "    def dequeue(self):\n",
        "        if self.size() > 0:\n",
        "            return self.data.pop()\n",
        "        else:\n",
        "            return 'Fila vazia'\n",
        "    def head(self):\n",
        "        if self.size() > 0:\n",
        "            return self.data[self.size()-1]\n",
        "        else:\n",
        "            return 'Fila vazia'\n",
        "    \n",
        "    def rabo(self):\n",
        "        if self.size() > 0:\n",
        "            return self.data[0]\n",
        "        else:\n",
        "            return 'Fila vazia'\n",
        "    \n",
        "    def size(self):\n",
        "        return len(self.data)\n",
        "\n",
        "    def printQueue(self):\n",
        "        for i in range(self.size(), 0, -1):\n",
        "            if self.data[i-1] == self.rabo():\n",
        "                print(self.data[i-1], end='\\n')\n",
        "            else:\n",
        "                print(self.data[i-1], end=' ')\n",
        "\n",
        "fila = Queue()\n",
        "for i in range(1, 6):\n",
        "    fila.enqueue(i)\n",
        "\n",
        "fila.printQueue()\n",
        "print(fila.head())\n",
        "print(fila.rabo())\n",
        "fila.dequeue()\n",
        "fila.printQueue()\n",
        "print(fila.head())\n",
        "print(fila.rabo())"
      ],
      "metadata": {
        "colab": {
          "base_uri": "https://localhost:8080/"
        },
        "id": "mrLgT7wiX7rM",
        "outputId": "83adce48-347b-451f-988e-bb47b5d53358"
      },
      "execution_count": null,
      "outputs": [
        {
          "output_type": "stream",
          "name": "stdout",
          "text": [
            "1 2 3 4 5\n",
            "1\n",
            "5\n",
            "2 3 4 5\n",
            "2\n",
            "5\n"
          ]
        }
      ]
    },
    {
      "cell_type": "markdown",
      "source": [
        "##Questao1\n",
        "Utilizando um gráfico semelhante ao utilizado na Figura 1 da ficha de leitura disponível no\n",
        "material de estudo sobre filas, mostre a execução e a fila resultante da execução de cada uma\n",
        "das operações a seguir: enqueue(1), enqueue(3), enqueue(10), enqueue(24), enqueue(15),\n",
        "dequeue(), dequeue(), enqueue(64), enqueue(39), dequeue(), dequeue(), dequeue().\n",
        "Considere que a fila está vazia inicialmente."
      ],
      "metadata": {
        "id": "W82YXaRRbU1s"
      }
    },
    {
      "cell_type": "code",
      "source": [
        "class Queue:\n",
        "    def __init__(self):\n",
        "        self.data = []\n",
        "\n",
        "    def isEmpty(self):\n",
        "        if self.size() == 0:\n",
        "            return True\n",
        "        else:\n",
        "            return False\n",
        "    def enqueue(self, elemento):\n",
        "        self.data.insert(0, elemento) \n",
        "\n",
        "    def dequeue(self):\n",
        "        if self.size() > 0:\n",
        "            return self.data.pop()\n",
        "        else:\n",
        "            return 'Fila vazia'\n",
        "    def head(self):\n",
        "        if self.size() > 0:\n",
        "            return self.data[self.size()-1]\n",
        "        else:\n",
        "            return 'Fila vazia'\n",
        "    \n",
        "    def rabo(self):\n",
        "        if self.size() > 0:\n",
        "            return self.data[0]\n",
        "        else:\n",
        "            return 'Fila vazia'\n",
        "    \n",
        "    def size(self):\n",
        "        return len(self.data)\n",
        "\n",
        "    def printQueue(self):\n",
        "        print(self.data)\n",
        "\n",
        "fila = Queue()\n",
        "fila.enqueue(1)\n",
        "fila.enqueue(3)\n",
        "fila.enqueue(10)\n",
        "fila.enqueue(24)\n",
        "fila.enqueue(15)\n",
        "fila.dequeue()\n",
        "fila.dequeue()\n",
        "fila.enqueue(64)\n",
        "fila.enqueue(39)\n",
        "fila.dequeue()\n",
        "fila.dequeue()\n",
        "fila.dequeue() "
      ],
      "metadata": {
        "colab": {
          "base_uri": "https://localhost:8080/"
        },
        "id": "TYM7PdWJbZ_s",
        "outputId": "3a3945e8-12a2-476f-a507-3c957b9e3cdf"
      },
      "execution_count": null,
      "outputs": [
        {
          "output_type": "execute_result",
          "data": {
            "text/plain": [
              "15"
            ]
          },
          "metadata": {},
          "execution_count": 124
        }
      ]
    },
    {
      "cell_type": "markdown",
      "source": [
        "##Questao5\n",
        "\n",
        "Dada uma fila de inteiros, faça um programa que exclua todos os números negativos sem\n",
        "alterar a posição dos outros elementos da fila. Imprima a fila antes e após a exclusão dos\n",
        "números negativos."
      ],
      "metadata": {
        "id": "X8Ye3xnd0dHP"
      }
    },
    {
      "cell_type": "code",
      "source": [
        "class Queue:\n",
        "    def __init__(self):\n",
        "        self.data = []\n",
        "\n",
        "    def isEmpty(self):\n",
        "        if self.size() == 0:\n",
        "            return True\n",
        "        else:\n",
        "            return False\n",
        "    def enqueue(self, elemento):\n",
        "        self.data.insert(0, elemento) \n",
        "\n",
        "    def dequeue(self):\n",
        "        if self.size() > 0:\n",
        "            return self.data.pop()\n",
        "        else:\n",
        "            return 'Fila vazia'\n",
        "    def head(self):\n",
        "        if self.size() > 0:\n",
        "            return self.data[self.size()-1]\n",
        "        else:\n",
        "            return 'Fila vazia'\n",
        "    \n",
        "    def rabo(self):\n",
        "        if self.size() > 0:\n",
        "            return self.data[0]\n",
        "        else:\n",
        "            return 'Fila vazia'\n",
        "    \n",
        "    def size(self):\n",
        "        return len(self.data)\n",
        "\n",
        "    def printQueue(self):\n",
        "        print(self.data)\n",
        "\n",
        "    def acharNegativos(self):\n",
        "        indices = []\n",
        "        for e in self.data:\n",
        "            if e < 0:\n",
        "                indices.append(self.data.index(e))\n",
        "        return indices\n",
        "\n",
        "    def elementByIndex(self, indice):\n",
        "        elemento = self.data[indice]\n",
        "        return elemento\n",
        "\n",
        "    def substituir(self, numero, ind):\n",
        "        # remove e depois inserir valor null no lugar]\n",
        "        for e in self.data:\n",
        "            if e == numero:\n",
        "                self.data.remove(numero)\n",
        "                self.data.insert(ind, 'null')\n",
        "\n",
        "\n",
        "fila = Queue()\n",
        "numeros = input().split(', ')\n",
        "\n",
        "for e in numeros:\n",
        "    fila.enqueue(int(e))\n",
        "\n",
        "fila.printQueue()\n",
        "\n",
        "for indice in fila.acharNegativos():\n",
        "    fila.substituir(fila.elementByIndex(indice), indice)\n",
        "\n",
        "fila.printQueue()\n",
        "print('Cabeça: ', fila.head())\n",
        "print('Rabo: ', fila.rabo())\n",
        "# 1, -2, 3, -4, 5\n"
      ],
      "metadata": {
        "colab": {
          "base_uri": "https://localhost:8080/"
        },
        "id": "UOl5wdPZ0dHc",
        "outputId": "dab0c375-19e6-422c-f117-310c58782af9"
      },
      "execution_count": null,
      "outputs": [
        {
          "output_type": "stream",
          "name": "stdout",
          "text": [
            "1, -2, 3, -4, 5\n",
            "[5, -4, 3, -2, 1]\n",
            "[5, 'null', 3, 'null', 1]\n",
            "Cabeça:  1\n",
            "Rabo:  5\n"
          ]
        }
      ]
    },
    {
      "cell_type": "markdown",
      "source": [
        "##Questao6\n",
        "\n",
        "Faça um programa para intercalar duas filas F1 e F2. O programa recebe as duas filas e exibe a fila com os elementos das duas filas F1 e F2 intercalados conforme a ordem com que elas se dispõe na fila. Por exemplo, imagine que F1 contenha 1, 3, 5, 7 e F2 contenha 2, 4, 6, 8, a fila resultante conterá 1, 2, 3, 4, 5, 6, 7, 8."
      ],
      "metadata": {
        "id": "Ip-8ahWcQXzn"
      }
    },
    {
      "cell_type": "code",
      "source": [
        "class Queue:\n",
        "    def __init__(self):\n",
        "        self.data = []\n",
        "\n",
        "    def isEmpty(self):\n",
        "        if self.size() == 0:\n",
        "            return True\n",
        "        else:\n",
        "            return False\n",
        "    def enqueue(self, elemento):\n",
        "        self.data.insert(0, elemento) \n",
        "\n",
        "    def dequeue(self):\n",
        "        if self.size() > 0:\n",
        "            return self.data.pop()\n",
        "        else:\n",
        "            return None\n",
        "    def head(self):\n",
        "        if self.size() > 0:\n",
        "            return self.data[self.size()-1]\n",
        "        else:\n",
        "            return 'Fila vazia'\n",
        "    \n",
        "    def rabo(self):\n",
        "        if self.size() > 0:\n",
        "            return self.data[0]\n",
        "        else:\n",
        "            return 'Fila vazia'\n",
        "    \n",
        "    def size(self):\n",
        "        return len(self.data)\n",
        "\n",
        "    def printQueue(self):\n",
        "        print(self.data)\n",
        "    \n",
        "    \n",
        "\n",
        "fila1 = Queue()\n",
        "fila2 = Queue()\n",
        "resultado = Queue()\n",
        "\n",
        "f1 = input().split(' ')\n",
        "f2 = input().split(' ')\n",
        "\n",
        "for e in f1:\n",
        "    fila1.enqueue(e)\n",
        "\n",
        "for e in f2:\n",
        "    fila2.enqueue(e)\n",
        "    \n",
        "\n",
        "while fila1.isEmpty() == False or fila2.isEmpty() == False:\n",
        "\n",
        "    valor1 = fila1.dequeue()\n",
        "    if valor1 is not None:\n",
        "        resultado.enqueue(valor1)\n",
        "\n",
        "    valor2 = fila2.dequeue()\n",
        "    if valor2 is not None:\n",
        "        resultado.enqueue(valor2)\n",
        "\n",
        "\n",
        "resultado.printQueue()\n",
        "\n",
        "\n",
        "#1 3 5 7 9\n",
        "#2 4 6 8\n"
      ],
      "metadata": {
        "colab": {
          "base_uri": "https://localhost:8080/"
        },
        "outputId": "7ee05723-afc6-4ab2-bf41-9998eebf3960",
        "id": "m0edvqGeQXzw"
      },
      "execution_count": null,
      "outputs": [
        {
          "output_type": "stream",
          "name": "stdout",
          "text": [
            "1 3 5 7 9\n",
            "2 4 6 8\n",
            "['9', '8', '7', '6', '5', '4', '3', '2', '1']\n"
          ]
        }
      ]
    },
    {
      "cell_type": "markdown",
      "source": [
        "##Questao7\n",
        "\n",
        "Considere uma pilha P vazia e uma fila F não vazia. Utilizando apenas os testes de fila e pilha\n",
        "vazias, as operações **Enqueue, Dequeue, Push, Pop, **escreva uma função que inverta a ordem\n",
        "dos elementos da fila."
      ],
      "metadata": {
        "id": "eRghQh3-eh-Q"
      }
    },
    {
      "cell_type": "code",
      "source": [
        "class Stack:\n",
        "    def __init__(self):\n",
        "        self.data = []\n",
        "\n",
        "    def isEmpty(self): \n",
        "        if self.size() == 0:\n",
        "            return True\n",
        "        else:\n",
        "            return False\n",
        "\n",
        "    def push(self, elemento):\n",
        "        self.data.append(elemento)\n",
        "\n",
        "    def pop(self):\n",
        "        if self.size() > 0:\n",
        "            return self.data.pop()\n",
        "        else:\n",
        "            return 'Pilha vazia'\n",
        "\n",
        "    def peek(self): #retorna o item que tá no topo\n",
        "        if self.size() > 0:\n",
        "            return self.data[len(self.data)-1]\n",
        "        else:\n",
        "            return 'Pilha vazia'\n",
        "\n",
        "    def size(self):\n",
        "        return len(self.data)\n",
        "\n",
        "    def printStack(self):\n",
        "        for i in range(self.size(), 0, -1):\n",
        "            print(self.data[i-1], end='\\n')\n",
        "\n",
        "class Queue:\n",
        "    def __init__(self):\n",
        "        self.data = []\n",
        "\n",
        "    def isEmpty(self):\n",
        "        if self.size() == 0:\n",
        "            return True\n",
        "        else:\n",
        "            return False\n",
        "    def enqueue(self, elemento):\n",
        "        self.data.insert(0, elemento) \n",
        "\n",
        "    def dequeue(self):\n",
        "        if self.size() > 0:\n",
        "            return self.data.pop()\n",
        "        else:\n",
        "            return 'Fila vazia'\n",
        "    def head(self):\n",
        "        if self.size() > 0:\n",
        "            return self.data[self.size()-1]\n",
        "        else:\n",
        "            return 'Fila vazia'\n",
        "    \n",
        "    def rabo(self):\n",
        "        if self.size() > 0:\n",
        "            return self.data[0]\n",
        "        else:\n",
        "            return 'Fila vazia'\n",
        "    \n",
        "    def size(self):\n",
        "        return len(self.data)\n",
        "\n",
        "    def printQueue(self):\n",
        "        for i in range(self.size(), 0, -1):\n",
        "            if self.data[i-1] == self.rabo():\n",
        "                print(self.data[i-1], end='\\n')\n",
        "            else:\n",
        "                print(self.data[i-1], end=' ')\n",
        "\n",
        "pilha = Stack()\n",
        "fila = Queue()\n",
        "\n",
        "for i in range(1,6):\n",
        "    fila.enqueue(i)\n",
        "\n",
        "\n",
        "fila.printQueue()\n",
        "for i in range(fila.size()):\n",
        "    pilha.push(fila.dequeue())\n",
        "\n",
        "for i in range(pilha.size()):\n",
        "    fila.enqueue(pilha.pop())\n",
        "\n",
        "fila.printQueue()\n",
        "# a pilha está vazia pilha = []\n",
        "# a fila tem coisa dentro fila = [5,4,3,2,1]\n",
        "# eu vou colocar os elementos da fila na pilha pilha = [1,2,3,4,5]\n",
        "# a fila fica vazia\n",
        "# vou add na fila = [1 2 3 4 5]\n",
        "#"
      ],
      "metadata": {
        "id": "mdljaD84emCM",
        "colab": {
          "base_uri": "https://localhost:8080/"
        },
        "outputId": "ea2b12c4-191b-4d47-b65a-9e39be34c863"
      },
      "execution_count": null,
      "outputs": [
        {
          "output_type": "stream",
          "name": "stdout",
          "text": [
            "1 2 3 4 5\n",
            "5 4 3 2 1\n"
          ]
        }
      ]
    },
    {
      "cell_type": "markdown",
      "source": [
        "## Questao8\n",
        "Dada as operações de fila enfileira E e desenfileira D, escreva a configuração final da fila após a realização de um conjunto determinado de operações.\n",
        "\n",
        "**Entrada**\n",
        "\n",
        "A primeira linha contém a quantidade de operações que será realizada. As linhas seguintes estão organizadas da seguinte maneira:\n",
        "\n",
        "o primeiro informa a operação E para enfileirar e D para desenfileirar;\n",
        "o segundo informa o valor a ser operado, caso seja uma operação E; se for uma operação D não terá valor algum.\n",
        "Considere que a operação de desenfileirar será solicitada apenas se houver valores enfileirados.\n",
        "\n",
        "**Saída**\n",
        "\n",
        "Seu programa deve produzir uma única linha, informando a configuração final da fila."
      ],
      "metadata": {
        "id": "e0YgxmMxV42X"
      }
    },
    {
      "cell_type": "code",
      "source": [
        "class Queue:\n",
        "    def __init__(self):\n",
        "        self.data = []\n",
        "\n",
        "    def isEmpty(self):\n",
        "        if self.size() == 0:\n",
        "            return True\n",
        "        else:\n",
        "            return False\n",
        "    def enqueue(self, elemento):\n",
        "        self.data.insert(0, elemento) \n",
        "\n",
        "    def dequeue(self):\n",
        "        if self.size() > 0:\n",
        "            return self.data.pop()\n",
        "        else:\n",
        "            return 'Fila vazia'\n",
        "    def head(self):\n",
        "        if self.size() > 0:\n",
        "            return self.data[self.size()-1]\n",
        "        else:\n",
        "            return 'Fila vazia'\n",
        "    \n",
        "    def rabo(self):\n",
        "        if self.size() > 0:\n",
        "            return self.data[0]\n",
        "        else:\n",
        "            return 'Fila vazia'\n",
        "    \n",
        "    def size(self):\n",
        "        return len(self.data)\n",
        "\n",
        "    def printQueue(self):\n",
        "        return self.data\n",
        "\n",
        "times = int(input())\n",
        "\n",
        "fila = Queue()\n",
        "for i in range(times):\n",
        "    row = input().split()\n",
        "    operacao = row[0]\n",
        "\n",
        "    if operacao == 'E':\n",
        "        valor = int(row[1])\n",
        "        fila.enqueue(valor)\n",
        "    elif operacao == 'D':\n",
        "        fila.dequeue()\n",
        "\n",
        "fila.printQueue()\n",
        "\n",
        "\n",
        "#fila = [ ['E', 12], ['D', 56] ]"
      ],
      "metadata": {
        "colab": {
          "base_uri": "https://localhost:8080/"
        },
        "id": "x9GdtLbGV877",
        "outputId": "b5441653-8d93-4995-b070-953d1e31c17c"
      },
      "execution_count": null,
      "outputs": [
        {
          "name": "stdout",
          "output_type": "stream",
          "text": [
            "5\n",
            "E 41\n",
            "E 42\n",
            "D\n",
            "E 43\n",
            "E 44\n"
          ]
        },
        {
          "output_type": "execute_result",
          "data": {
            "text/plain": [
              "[44, 43, 42]"
            ]
          },
          "metadata": {},
          "execution_count": 2
        }
      ]
    },
    {
      "cell_type": "markdown",
      "source": [
        "#Prova"
      ],
      "metadata": {
        "id": "BHaH8hCU2LWe"
      }
    },
    {
      "cell_type": "markdown",
      "source": [
        "##Questão 1\n",
        "\n",
        "Escreva um programa, usando uma Pilha, que inverte as letras de cada palavra de um texto terminado por ponto (.) preservando a ordem das palavras.\n",
        "\n",
        "Entrada\n",
        "\n",
        "A entrada conterá uma sentença contendo um ponto final. Por exemplo, uma sentença pode ser a seguinte: \n",
        "\n",
        "\n",
        "> ESTE EXERCÍCIO É MUITO FÁCIL\n",
        "\n",
        "Saída\n",
        "\n",
        "Seu programa deve produzir uma única linha, onde cada uma das palavras estão invertidas. Para a sentença de exemplo de entrada, teremos a seguinte saída: \n",
        "\n",
        "\n",
        "> ETSE OICÍCREXE É OTIUM LICÁF\n",
        "\n",
        "\n",
        "\n"
      ],
      "metadata": {
        "id": "aNRqbEJcsdOG"
      }
    },
    {
      "cell_type": "code",
      "source": [
        "class Stack:\n",
        "    def __init__(self):\n",
        "        self.data = []\n",
        "\n",
        "    def isEmpty(self): \n",
        "        if self.size() == 0:\n",
        "            return True\n",
        "        else:\n",
        "            return False\n",
        "\n",
        "    def push(self, elemento):\n",
        "        self.data.append(elemento)\n",
        "\n",
        "    def pop(self):\n",
        "        if self.size() > 0:\n",
        "            return self.data.pop()\n",
        "        else:\n",
        "            return 'Pilha vazia'\n",
        "\n",
        "    def peek(self):\n",
        "        if self.size() > 0:\n",
        "            return self.data[len(self.data)-1]\n",
        "        else:\n",
        "            return 'Pilha vazia'\n",
        "\n",
        "    def size(self):\n",
        "        return len(self.data)\n",
        "\n",
        "    def printStack(self):\n",
        "        for i in range(self.size(), 0, -1):\n",
        "            print(self.data[i-1], end='\\n')\n",
        "    \n",
        "\n",
        "entrada = input().split()\n",
        "resposta = []\n",
        "for p in entrada:\n",
        "    palavra = Stack()\n",
        "    for c in p:\n",
        "        palavra.push(c)\n",
        "\n",
        "    x = ''\n",
        "    while palavra.isEmpty() == False:\n",
        "        x += palavra.pop()\n",
        "\n",
        "    resposta.append(x)\n",
        "\n",
        "print(' '.join(resposta).replace('.', ''))\n",
        "\n",
        "    "
      ],
      "metadata": {
        "id": "XzkeNiVxUVF1",
        "colab": {
          "base_uri": "https://localhost:8080/"
        },
        "outputId": "4363e2d1-c05d-463f-b15c-2b899cdffdf1"
      },
      "execution_count": null,
      "outputs": [
        {
          "output_type": "stream",
          "name": "stdout",
          "text": [
            "ESTE EXERCÍCIO É MUITO FÁCIL.\n",
            "ETSE OICÍCREXE É OTIUM LICÁF\n"
          ]
        }
      ]
    },
    {
      "cell_type": "markdown",
      "source": [
        "## Questão 2\n",
        "\n",
        "Escreva um programa que, dado duas filas F1 e F2, concatene as duas filas. Retorne a fila concatenada em F1. F2 deve ficar vazia.\n",
        "\n",
        "Entrada\n",
        "\n",
        "A entrada conterá duas linhas, cada uma contendo valores numéricos inteiros separados por espaço. A primeira linha será a fila F1 e a segunda linha será a fila F2.\n",
        "\n",
        "Saída\n",
        "\n",
        "Seu programa deve produzir uma única linha contendo a linha F1 seguida da linha F2.\n",
        "\n"
      ],
      "metadata": {
        "id": "9DYYMqRJBFK9"
      }
    },
    {
      "cell_type": "code",
      "source": [
        "class Queue:\n",
        "    def __init__(self):\n",
        "        self.data = []\n",
        "\n",
        "    def isEmpty(self):\n",
        "        if self.size() == 0:\n",
        "            return True\n",
        "        else:\n",
        "            return False\n",
        "    def enqueue(self, elemento):\n",
        "        self.data.insert(0, elemento) \n",
        "\n",
        "    def dequeue(self):\n",
        "        if self.size() > 0:\n",
        "            return self.data.pop()\n",
        "        else:\n",
        "            return 'Fila vazia'\n",
        "    def head(self):\n",
        "        if self.size() > 0:\n",
        "            return self.data[self.size()-1]\n",
        "        else:\n",
        "            return 'Fila vazia'\n",
        "    \n",
        "    def rabo(self):\n",
        "        if self.size() > 0:\n",
        "            return self.data[0]\n",
        "        else:\n",
        "            return 'Fila vazia'\n",
        "    \n",
        "    def size(self):\n",
        "        return len(self.data)\n",
        "\n",
        "    def printQueue(self):\n",
        "        for i in range(self.size()):\n",
        "            print(self.data[i], end=' ')\n",
        "\n",
        "       \n",
        "\n",
        "f1 = Queue()\n",
        "f2 = Queue()\n",
        "\n",
        "x = input().split()[::-1]\n",
        "y = input().split()[::-1]\n",
        "\n",
        "[f1.enqueue(int(e)) for e in y]\n",
        "[f2.enqueue(int(e)) for e in x]\n",
        "  \n",
        "for i in range(f2.size()):\n",
        "    f1.enqueue(f2.dequeue())\n",
        "\n",
        "f1.printQueue()\n"
      ],
      "metadata": {
        "colab": {
          "base_uri": "https://localhost:8080/"
        },
        "id": "o8eU3BR_BJ0O",
        "outputId": "2259c556-4fef-44f2-90bf-21e78ab7934c"
      },
      "execution_count": null,
      "outputs": [
        {
          "output_type": "stream",
          "name": "stdout",
          "text": [
            "13 45 67 89\n",
            "29 32 9 1\n",
            "13 45 67 89 29 32 9 1 "
          ]
        }
      ]
    },
    {
      "cell_type": "markdown",
      "source": [
        "## Questão 3\n",
        "\n",
        "Faça um programa que preencha uma lista contendo um número determinado de nome de carros e seus consumos (quantos km cada carro faz com 1 litro de combustível). Calcule e mostre o modelo de carro mais econômico.\n",
        "\n",
        "Entrada\n",
        "\n",
        "A primeira linha da entrada conterá a quantidade de carros que serão listados a partir da segunda linha. Da segunda linha em diante, teremos em cada linha um nome de carro seguido do seu consumo.\n",
        "\n",
        "Saída\n",
        "\n",
        "Seu programa deve produzir uma única linha contendo o nome do carro mais econômico"
      ],
      "metadata": {
        "id": "jdH46xzNBOEz"
      }
    },
    {
      "cell_type": "code",
      "source": [
        "q = int(input())\n",
        "\n",
        "modelo, km = [], []\n",
        "for i in range(q):\n",
        "    car = input().split(' ')\n",
        "    modelo.append(car[0])\n",
        "    km.append(int(car[1]))\n",
        "\n",
        "maiorKm = km.index(max(km))\n",
        "print(modelo[maiorKm])"
      ],
      "metadata": {
        "colab": {
          "base_uri": "https://localhost:8080/"
        },
        "id": "cJ5YHdio5Bdf",
        "outputId": "d1345119-55fa-4d6e-a15e-6a0a63d9e2c3"
      },
      "execution_count": null,
      "outputs": [
        {
          "output_type": "stream",
          "name": "stdout",
          "text": [
            "3\n",
            "Versa 11\n",
            "Gol 10\n",
            "Toro 9\n",
            "Versa\n"
          ]
        }
      ]
    },
    {
      "cell_type": "markdown",
      "source": [
        "## Questão 4\n",
        "\n",
        "Duas pessoas estão se conhecendo e responderam a seguinte pergunta: “o que você gosta de fazer no seu tempo livre?” A resposta de cada uma das pessoas foi armazenada em uma lista de lazer. Faça um programa que verifica quais as opções de lazer que essas pessoas possuem em comum.\n",
        "\n",
        "Entrada\n",
        "\n",
        "A primeira linha da entrada conterá um conjunto de opções de lazer para a primeira pessoa separado por vírgula e a segunda linha da entrada conterá um conjunto de lazer para a segunda pessoa também separado por vírgula. Caso as pessoas não tenham nenhum lazer em comum, a saída deverá exibir a palavra NADA.\n",
        "\n",
        "Saída\n",
        "\n",
        "Seu programa deve produzir uma única linha contendo um conjunto de lazer em comum para as duas pessoas, organizados em ordem alfabética.\n",
        "\n"
      ],
      "metadata": {
        "id": "vpj9Nkq55z-f"
      }
    },
    {
      "cell_type": "code",
      "source": [
        "resposta = []\n",
        "p1 = input().strip().split(', ')\n",
        "p2 = input().strip().split(', ')\n",
        "\n",
        "for v in p2:\n",
        "    if v in p1:\n",
        "        resposta.append(v)\n",
        "\n",
        "resposta.sort()\n",
        "for e in resposta:\n",
        "    if e == resposta[len(resposta)-1]:\n",
        "        print(e, '\\n')\n",
        "    else: \n",
        "        print(e, end=\", \")"
      ],
      "metadata": {
        "colab": {
          "base_uri": "https://localhost:8080/"
        },
        "id": "IpL-itQ251pm",
        "outputId": "4ccbba30-43fb-416f-b680-ae60ced9f320"
      },
      "execution_count": null,
      "outputs": [
        {
          "output_type": "stream",
          "name": "stdout",
          "text": [
            "passear com o cachorro, ir a praia, ir ao cinema\n",
            "ir a praia, ir ao cinema, sair para comer\n",
            "ir ao cinema, ir a praia"
          ]
        }
      ]
    },
    {
      "cell_type": "markdown",
      "source": [
        "## Questão 5\n",
        "\n",
        "Palíndromo é a palavra ou a frase que se pode ler, indiferentemente, da esquerda para a direita ou vice-versa. Faça um programa que indica se uma determinada palavra ou frase é um palíndromo.\n",
        "\n",
        "Entrada\n",
        "\n",
        "A primeira linha da entrada conterá uma palavra ou frase.\n",
        "\n",
        "Saída \n",
        "\n",
        "Seu programa deve produzir uma única linha indicando VERDADEIRO se a palavra ou frase é um palíndromo e FALSO caso contrário.\n",
        "\n",
        "OBS: Considere apenas palavras e frases sem acento.\n",
        "\n"
      ],
      "metadata": {
        "id": "wUVFXXWC9mhD"
      }
    },
    {
      "cell_type": "code",
      "source": [
        "entrada = input().lower().replace(\" \", \"\")\n",
        "if entrada == entrada[::-1]:\n",
        "    print('VERDADEIRO')\n",
        "else:\n",
        "    print('FALSO')"
      ],
      "metadata": {
        "colab": {
          "base_uri": "https://localhost:8080/"
        },
        "id": "ZPwmlw6r9n_y",
        "outputId": "7bc5f72a-4f6d-4804-988a-98ed693957f6"
      },
      "execution_count": null,
      "outputs": [
        {
          "output_type": "stream",
          "name": "stdout",
          "text": [
            "Liquidificador\n",
            "FALSO\n"
          ]
        }
      ]
    }
  ]
}