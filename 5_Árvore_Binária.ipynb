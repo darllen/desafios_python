{
  "cells": [
    {
      "cell_type": "markdown",
      "metadata": {
        "id": "view-in-github",
        "colab_type": "text"
      },
      "source": [
        "<a href=\"https://colab.research.google.com/github/darllen/desafios_python/blob/main/5_%C3%81rvore_Bin%C3%A1ria.ipynb\" target=\"_parent\"><img src=\"https://colab.research.google.com/assets/colab-badge.svg\" alt=\"Open In Colab\"/></a>"
      ]
    },
    {
      "cell_type": "markdown",
      "source": [
        "# Class Queue"
      ],
      "metadata": {
        "id": "XyV8V5XfZ_ia"
      }
    },
    {
      "cell_type": "code",
      "source": [
        "class Queue:\n",
        "    def __init__(self):\n",
        "        self.data = []\n",
        "\n",
        "    def isEmpty(self):\n",
        "        if self.size() == 0:\n",
        "            return True\n",
        "        else:\n",
        "            return False\n",
        "    def enqueue(self, elemento):\n",
        "        self.data.insert(0, elemento) \n",
        "\n",
        "    def dequeue(self):\n",
        "        if self.size() > 0:\n",
        "            return self.data.pop()\n",
        "        else:\n",
        "            return 'Fila vazia'\n",
        "    def head(self):\n",
        "        if self.size() > 0:\n",
        "            return self.data[self.size()-1]\n",
        "        else:\n",
        "            return 'Fila vazia'\n",
        "    \n",
        "    def rabo(self):\n",
        "        if self.size() > 0:\n",
        "            return self.data[0]\n",
        "        else:\n",
        "            return 'Fila vazia'\n",
        "    \n",
        "    def size(self):\n",
        "        return len(self.data)\n",
        "\n",
        "    def printQueue(self):\n",
        "        for i in range(self.size(), 0, -1):\n",
        "            if self.data[i-1] == self.rabo():\n",
        "                print(self.data[i-1], end='\\n')\n",
        "            else:\n",
        "                print(self.data[i-1], end=' ')"
      ],
      "metadata": {
        "id": "8FNu3KU3aCog"
      },
      "execution_count": null,
      "outputs": []
    },
    {
      "cell_type": "markdown",
      "source": [
        "# Tudo Junto"
      ],
      "metadata": {
        "id": "87htQj4aY6Hu"
      }
    },
    {
      "cell_type": "code",
      "source": [
        "ROOT = \"root\"\n",
        "\n",
        "class Node:\n",
        "    def __init__(self, data):\n",
        "        self.data = data\n",
        "        self.left = None\n",
        "        self.right = None\n",
        "\n",
        "    def __str__(self):\n",
        "        return str(self.data)\n",
        "\n",
        "class Tree:\n",
        "    def __init__(self, data=None, node=None):\n",
        "        if node is not None:\n",
        "            self.root = node\n",
        "        elif data is not None:\n",
        "            node = Node(data)\n",
        "            self.root = node\n",
        "        else:\n",
        "            self.root = None\n",
        "\n",
        "    # Percorrer em ordem\n",
        "    def inOrder(self, node=None):\n",
        "        if node is None:\n",
        "            node = self.root \n",
        "        \n",
        "        if node.left is not None:\n",
        "            self.inOrder(node.left)\n",
        "\n",
        "        print(node, end=' ')\n",
        "\n",
        "        if node.right is not None:\n",
        "            self.inOrder(node.right)\n",
        "\n",
        "    # Percorrer em pós ordem\n",
        "    def pos_ordem(self, node=None):\n",
        "        if node is None:\n",
        "            node = self.root\n",
        "\n",
        "        if node.left is not None:\n",
        "            self.pos_ordem(node.left)\n",
        "        \n",
        "        if node.right is not None:\n",
        "            self.pos_ordem(node.right)\n",
        "                \n",
        "        print(node, end=\"\")\n",
        "\n",
        "    # Altura da árvore ou da subárvore\n",
        "    def height(self, node=None):\n",
        "        if node is None:\n",
        "            node = self.root\n",
        "\n",
        "        h_left = 0\n",
        "        h_right = 0\n",
        "        if node.left is not None:\n",
        "            h_left = self.height(node.left)\n",
        "        \n",
        "        if node.right is not None:\n",
        "            h_right = self.height(node.right)\n",
        "                \n",
        "        if h_left > h_right:\n",
        "            return h_left + 1\n",
        "        else:\n",
        "            return h_right + 1 \n",
        "\n",
        "    # Percorrer em nível\n",
        "    ROOT = \"root\"\n",
        "    def levelOrder(self, node=ROOT):\n",
        "        if node == ROOT:\n",
        "            node = self.root\n",
        "\n",
        "        fila = Queue()\n",
        "        fila.push(node)\n",
        "        while len(fila):\n",
        "            node = fila.pop()\n",
        "            if node.left is not None:\n",
        "                fila.push(node.left)\n",
        "            if node.right is not None:\n",
        "                fila.push(node.right)\n",
        "            print(node, end=' ')\n",
        "\n",
        "    # Inserir elemento\n",
        "    def insert(self, value):\n",
        "        pai = None\n",
        "        aux = self.root\n",
        "\n",
        "        while(aux is not None):\n",
        "            pai = aux\n",
        "            if value < aux.data:\n",
        "                aux = aux.left\n",
        "            else:\n",
        "                aux = aux.right\n",
        "\n",
        "        if pai is None:\n",
        "            self.root = Node(value)\n",
        "        elif value < pai.data:\n",
        "            pai.left = Node(value)\n",
        "        else:\n",
        "            pai.right = Node(value)\n",
        "\n",
        "    # Buscar elemento\n",
        "    def find(self, value):\n",
        "        return self._find(value, self.root)\n",
        "\n",
        "    def _find(self, value, node):\n",
        "        if node is None:\n",
        "            return node\n",
        "        if node.data == value:\n",
        "            return Tree(node)\n",
        "        if value < node.data:\n",
        "            return self._find(value, node.left)\n",
        "        \n",
        "        return self._find(value, node.right)\n",
        "    \n",
        "    # Valor Mínimo\n",
        "    ROOT = \"root\"\n",
        "    def min(self, node=ROOT):\n",
        "        if node == ROOT:\n",
        "            node = self.root\n",
        "            \n",
        "        while(node.left is not None): \n",
        "            node = node.left\n",
        "        \n",
        "        return node.data\n",
        "    \n",
        "    # Valor Máximo\n",
        "    ROOT = \"root\"\n",
        "    def max(self, node=ROOT):\n",
        "        if node == ROOT:\n",
        "            node = self.root\n",
        "        \n",
        "        while(node.right is not None):\n",
        "            node = node.right\n",
        "        \n",
        "        return node.data\n",
        "    \n",
        "    # Nó Sucessor\n",
        "    def sucessor(self, chave):\n",
        "        valores = self.valores(self.root)\n",
        "\n",
        "        if chave in valores:\n",
        "            posicao = valores.index(chave)\n",
        "            \n",
        "        if 0 <= posicao < len(valores) - 1:\n",
        "            return valores[posicao + 1]\n",
        "\n",
        "        return None\n",
        "\n",
        "    # Nó antecessor\n",
        "    def valores(self, node):\n",
        "        if node is not None:\n",
        "            lista = []\n",
        "\n",
        "        if node.left is not None:\n",
        "            esquerda = self.valores(node.left)\n",
        "            lista = lista + esquerda\n",
        "\n",
        "        lista = lista + [node.data]\n",
        "\n",
        "        if node.right is not None:\n",
        "            direita = self.valores(node.right)\n",
        "            lista = lista + direita\n",
        "\n",
        "        return lista\n",
        "    "
      ],
      "metadata": {
        "id": "Svwjdp6rZDBl"
      },
      "execution_count": null,
      "outputs": []
    },
    {
      "cell_type": "markdown",
      "metadata": {
        "id": "7wZjJAV6uSqz"
      },
      "source": [
        "#Percorrer em Ordem Simétrica\n",
        "\n",
        "1.   Nó a esquerda\n",
        "2.   Raíz\n",
        "3.   Nó a direita\n"
      ]
    },
    {
      "cell_type": "code",
      "execution_count": null,
      "metadata": {
        "colab": {
          "base_uri": "https://localhost:8080/"
        },
        "id": "zkYnztMfhbC_",
        "outputId": "ca2e0452-3f97-439b-bcca-cb77572f5fe1"
      },
      "outputs": [
        {
          "output_type": "stream",
          "name": "stdout",
          "text": [
            "a+b*c/d-e"
          ]
        }
      ],
      "source": [
        "def simetric(self, node=None):\n",
        "    if node is None:\n",
        "        node = self.root \n",
        "    \n",
        "    if node.left is not None:\n",
        "        #print('(', end='')\n",
        "        self.simetric(node.left)\n",
        "\n",
        "    print(node, end='')\n",
        "\n",
        "    if node.right is not None:\n",
        "        self.simetric(node.right)\n",
        "        #print(')', end='')\n",
        "\n",
        "#==============================\n",
        "#      '+'\n",
        "#    /     \\\n",
        "#  'a'      '*'\n",
        "#          /   \\\n",
        "#        'b'    '-'\n",
        "#              /    \\\n",
        "#            '/'    'e' \n",
        "#           /   \\\n",
        "#         'c'   'd'\n",
        "\n",
        "# (a + (b * ((c/d) - e)))\n",
        "\n",
        "if __name__ == \"__main__\":\n",
        "    tree = Tree()\n",
        "\n",
        "    n1 = Node(\"a\")\n",
        "    n2 = Node(\"+\")\n",
        "    n3 = Node(\"*\")\n",
        "    n4 = Node(\"b\")\n",
        "    n5 = Node(\"-\")\n",
        "    n6 = Node(\"/\")\n",
        "    n7 = Node(\"c\")\n",
        "    n8 = Node(\"d\")\n",
        "    n9 = Node(\"e\")\n",
        "\n",
        "    n6.left = n7\n",
        "    n6.right = n8\n",
        "\n",
        "    n5.left = n6\n",
        "    n5.right = n9\n",
        "\n",
        "    n3.left = n4\n",
        "    n3.right = n5\n",
        "\n",
        "    n2.left = n1\n",
        "    n2.right = n3\n",
        "\n",
        "    tree.root = n2 #aqui que eu passo a colocar os nós na arvore\n",
        "\n",
        "    tree.simetric()\n",
        "\n",
        "\n"
      ]
    },
    {
      "cell_type": "markdown",
      "metadata": {
        "id": "d3fQtK3XwKZy"
      },
      "source": [
        "#Percorrer em Pós Ordem\n",
        "\n",
        "1.   Nó a esquerda\n",
        "2.   Nó a direita\n",
        "3.   Raíz\n",
        "\n",
        "OBS: É útil para calcular a altura da árvore"
      ]
    },
    {
      "cell_type": "code",
      "execution_count": null,
      "metadata": {
        "colab": {
          "base_uri": "https://localhost:8080/"
        },
        "id": "Vk-REhK50bAC",
        "outputId": "052068f5-921e-4fd8-91aa-db8c534dfcf9"
      },
      "outputs": [
        {
          "name": "stdout",
          "output_type": "stream",
          "text": [
            "Percurso em pós-ordem: \n",
            "INSCREVA53"
          ]
        }
      ],
      "source": [
        "def pos_ordem(self, node=None):\n",
        "    if node is None:\n",
        "        node = self.root\n",
        "\n",
        "    if node.left is not None:\n",
        "        self.pos_ordem(node.left)\n",
        "    \n",
        "    if node.right is not None:\n",
        "        self.pos_ordem(node.right)\n",
        "            \n",
        "    print(node, end=\"\")\n",
        "\n",
        "#==============================\n",
        "#              3 \n",
        "#         /         \\\n",
        "#       'E'          5\n",
        "#      /   \\        / \n",
        "#    'I'   'R'    'A'  \n",
        "#          /  \\     \\\n",
        "#        'N'  'C'   'V'\n",
        "#               \\           \n",
        "#               'S' \n",
        "\n",
        "# INSCREVA53\n",
        "\n",
        "tree = Tree()\n",
        "\n",
        "n1 = Node('I')\n",
        "n2 = Node('N')\n",
        "n3 = Node('S')\n",
        "n4 = Node('C')\n",
        "n5 = Node('R')\n",
        "n6 = Node('E')\n",
        "n7 = Node('V')\n",
        "n8 = Node('A')\n",
        "n9 = Node(5)\n",
        "n10 = Node(3)\n",
        "\n",
        "#comecar pela raíz\n",
        "n10.left = n6\n",
        "n10.right = n9\n",
        "\n",
        "n6.left = n1\n",
        "n6.right = n5\n",
        "\n",
        "n5.left = n2\n",
        "n5.right = n4\n",
        "\n",
        "n4.right = n3\n",
        "\n",
        "n9.left = n8\n",
        "\n",
        "n8.right = n7\n",
        "\n",
        "tree.root = n10\n",
        "\n",
        "print(\"Percurso em pós-ordem: \")\n",
        "tree.pos_ordem()\n",
        "\n",
        "\n"
      ]
    },
    {
      "cell_type": "markdown",
      "source": [
        "# Percorrer em Pré Ordem\n",
        "\n",
        "1. Visita a raiz\n",
        "2. Nó a esquerda\n",
        "3. Nó a direita"
      ],
      "metadata": {
        "id": "UqAniVt0gjjP"
      }
    },
    {
      "cell_type": "code",
      "source": [
        "def pre_ordem(self, node=None):\n",
        "    if node is None:\n",
        "        node = self.root\n",
        "\n",
        "    print(node, end=\"\") \n",
        "    if node.left is not None:\n",
        "        self.pos_ordem(node.left)\n",
        "    \n",
        "    if node.right is not None:\n",
        "        self.pos_ordem(node.right)\n",
        "            \n",
        "    print(node, end=\"\")"
      ],
      "metadata": {
        "id": "V5_6sDuGgmfO"
      },
      "execution_count": null,
      "outputs": []
    },
    {
      "cell_type": "markdown",
      "metadata": {
        "id": "kgGbKTmg-Gv-"
      },
      "source": [
        "#Altura da Árvore em Pós Ordem\n",
        "\n",
        "1.   Olhar a **altura** da subárvore à **esquerda** da raíz\n",
        "2.   Olhar a **altura** da subárvore à **direita** da raíz\n",
        "3.   Quem tiver a maior altura, acrescenta-se +1"
      ]
    },
    {
      "cell_type": "code",
      "execution_count": null,
      "metadata": {
        "colab": {
          "base_uri": "https://localhost:8080/"
        },
        "id": "bpt-abMF-GwI",
        "outputId": "a233215a-d143-4fb6-c739-8786a7997dcf"
      },
      "outputs": [
        {
          "output_type": "stream",
          "name": "stdout",
          "text": [
            "Altura: 5\n",
            "Altura do R: 3\n"
          ]
        }
      ],
      "source": [
        "def height(self, node=None):\n",
        "    if node is None:\n",
        "        node = self.root\n",
        "\n",
        "    h_left = 0\n",
        "    h_right = 0\n",
        "    if node.left is not None:\n",
        "        h_left = self.height(node.left)\n",
        "    \n",
        "    if node.right is not None:\n",
        "        h_right = self.height(node.right)\n",
        "            \n",
        "    if h_left > h_right:\n",
        "        return h_left + 1\n",
        "    else:\n",
        "        return h_right + 1 \n",
        "\n",
        "\n",
        "#==============================\n",
        "#              3 \n",
        "#         /         \\\n",
        "#       'E'          5\n",
        "#      /   \\        / \n",
        "#    'I'   'R'    'A'  \n",
        "#          /  \\     \\\n",
        "#        'N'  'C'   'V'\n",
        "#               \\           \n",
        "#               'S' \n",
        "\n",
        "# INSCREVA53\n",
        "\n",
        "tree = Tree()\n",
        "\n",
        "n1 = Node('I')\n",
        "n2 = Node('N')\n",
        "n3 = Node('S')\n",
        "n4 = Node('C')\n",
        "n5 = Node('R')\n",
        "n6 = Node('E')\n",
        "n7 = Node('V')\n",
        "n8 = Node('A')\n",
        "n9 = Node(5)\n",
        "n10 = Node(3)\n",
        "\n",
        "#comecar pela raíz\n",
        "n10.left = n6\n",
        "n10.right = n9\n",
        "\n",
        "n6.left = n1\n",
        "n6.right = n5\n",
        "\n",
        "n5.left = n2\n",
        "n5.right = n4\n",
        "\n",
        "n4.right = n3\n",
        "\n",
        "n9.left = n8\n",
        "\n",
        "n8.right = n7\n",
        "\n",
        "tree.root = n10\n",
        "\n",
        "print(\"Altura:\", tree.height())\n",
        "print(\"Altura do R:\", tree.height(n5))\n"
      ]
    },
    {
      "cell_type": "markdown",
      "source": [
        "# Percorrer em Nível"
      ],
      "metadata": {
        "id": "-Qageiv7V9Px"
      }
    },
    {
      "cell_type": "code",
      "source": [
        "ROOT = \"root\"\n",
        "def levelOrder(self, node=ROOT):\n",
        "    if node == ROOT:\n",
        "        node = self.root\n",
        "\n",
        "    fila = Queue()\n",
        "    fila.push(node)\n",
        "    while len(fila):\n",
        "        node = fila.pop()\n",
        "        if node.left is not None:\n",
        "            fila.push(node.left)\n",
        "        if node.right is not None:\n",
        "            fila.push(node.right)\n",
        "        print(node, end=' ')"
      ],
      "metadata": {
        "id": "bH_jrHd-WCSy"
      },
      "execution_count": null,
      "outputs": []
    },
    {
      "cell_type": "markdown",
      "source": [
        "# Inserir Elemento\n",
        "\n",
        "\n"
      ],
      "metadata": {
        "id": "RsPTgjynXJgr"
      }
    },
    {
      "cell_type": "code",
      "source": [
        "def insert(self, value):\n",
        "    pai = None\n",
        "    aux = self.root\n",
        "\n",
        "    while(aux is not None):\n",
        "        pai = aux\n",
        "        if value < aux.data:\n",
        "            aux = aux.left\n",
        "        else:\n",
        "            aux = aux.right\n",
        "\n",
        "    if pai is None:\n",
        "        self.root = Node(value)\n",
        "    elif value < pai.data:\n",
        "        pai.left = Node(value)\n",
        "    else:\n",
        "        pai.right = Node(value)"
      ],
      "metadata": {
        "id": "AGuAeC32XMBi"
      },
      "execution_count": null,
      "outputs": []
    },
    {
      "cell_type": "markdown",
      "source": [
        "# Buscar Elemento"
      ],
      "metadata": {
        "id": "dW_zKJiwa2GT"
      }
    },
    {
      "cell_type": "code",
      "source": [
        "def find(self, value):\n",
        "    return self._find(value, self.root)\n",
        "\n",
        "def _find(self, value, node):\n",
        "    if node is None:\n",
        "       return node\n",
        "    if node.data == value:\n",
        "        return Tree(node)\n",
        "    if value < node.data:\n",
        "        return self._find(value, node.left)\n",
        "    \n",
        "    return self._find(value, node.right)"
      ],
      "metadata": {
        "id": "Ri3VN3g8a6ZC"
      },
      "execution_count": null,
      "outputs": []
    },
    {
      "cell_type": "markdown",
      "metadata": {
        "id": "w4CzWCgkr3nF"
      },
      "source": [
        "# Valor Mínimo"
      ]
    },
    {
      "cell_type": "code",
      "execution_count": null,
      "metadata": {
        "colab": {
          "background_save": true
        },
        "id": "rFJoTo4xNZXF"
      },
      "outputs": [],
      "source": [
        "ROOT = \"root\"\n",
        "def min(self, node=ROOT):\n",
        "    if node == ROOT:\n",
        "        node = self.root\n",
        "        \n",
        "    #enquanto tiver filho a esquerda, vou caminhas para a esquerda. quando não tiver mais filho à esquerda, eu pego o valor do elemento.\n",
        "    while(node.left is not None): \n",
        "        node = node.left # tô caminhando\n",
        "    \n",
        "    return node.data"
      ]
    },
    {
      "cell_type": "markdown",
      "source": [
        "# Valor Máximo"
      ],
      "metadata": {
        "id": "HB_mBl2NdzMt"
      }
    },
    {
      "cell_type": "code",
      "source": [
        "def max(self, node=ROOT):\n",
        "    if node == ROOT:\n",
        "        node = self.root\n",
        "    \n",
        "    while(node.right is not None):\n",
        "        node = node.right\n",
        "    \n",
        "    return node.data"
      ],
      "metadata": {
        "id": "PkTiP_YId1So"
      },
      "execution_count": null,
      "outputs": []
    },
    {
      "cell_type": "markdown",
      "source": [
        "# Sucessor"
      ],
      "metadata": {
        "id": "3F4OI0tnXB8-"
      }
    },
    {
      "cell_type": "code",
      "source": [
        "def sucessor(self, chave):\n",
        "    valores = self.valores(self.root)\n",
        "\n",
        "    if chave in valores:\n",
        "        posicao = valores.index(chave)\n",
        "        \n",
        "        if 0 <= posicao < len(valores) - 1:\n",
        "            return valores[posicao + 1]\n",
        "\n",
        "    return None"
      ],
      "metadata": {
        "id": "cxGVyz2VXDx0"
      },
      "execution_count": null,
      "outputs": []
    },
    {
      "cell_type": "markdown",
      "source": [
        "# Antecessor"
      ],
      "metadata": {
        "id": "m-6Xd0UAXTcX"
      }
    },
    {
      "cell_type": "code",
      "source": [
        "def antecessor(self, chave):\n",
        "    valores = self.valores(self.root)\n",
        "\n",
        "    if chave in valores:\n",
        "        posicao = valores.index(chave)\n",
        "\n",
        "        if 0 < posicao < len(valores) - 1:\n",
        "            return valores[posicao - 1]\n",
        "\n",
        "    return None"
      ],
      "metadata": {
        "id": "1I9d-ThwXVcL"
      },
      "execution_count": null,
      "outputs": []
    },
    {
      "cell_type": "markdown",
      "source": [
        "# Transformar em lista\n"
      ],
      "metadata": {
        "id": "fR7g2wseWK-A"
      }
    },
    {
      "cell_type": "code",
      "source": [
        "def valores(self, node):\n",
        "    if node is not None:\n",
        "        lista = []\n",
        "\n",
        "        if node.left is not None:\n",
        "            esquerda = self.valores(node.left)\n",
        "            lista = lista + esquerda\n",
        "\n",
        "        lista = lista + [node.data]\n",
        "\n",
        "        if node.right is not None:\n",
        "            direita = self.valores(node.right)\n",
        "            lista = lista + direita\n",
        "\n",
        "    return lista"
      ],
      "metadata": {
        "id": "pBXdXGgSWPgo"
      },
      "execution_count": null,
      "outputs": []
    },
    {
      "cell_type": "markdown",
      "source": [
        "# Exercícios\n",
        "\n",
        "\n"
      ],
      "metadata": {
        "id": "9Bx-8kYQZU8q"
      }
    },
    {
      "cell_type": "markdown",
      "source": [
        "## Atribuindo left/right diretamente"
      ],
      "metadata": {
        "id": "-0FObc6Lp6FS"
      }
    },
    {
      "cell_type": "code",
      "execution_count": null,
      "metadata": {
        "colab": {
          "base_uri": "https://localhost:8080/"
        },
        "id": "69LJFZ8IhR_9",
        "outputId": "896faf9a-cbdb-4535-8527-ae3b41258d44"
      },
      "outputs": [
        {
          "output_type": "stream",
          "name": "stdout",
          "text": [
            "7\n",
            "14\n",
            "18\n"
          ]
        }
      ],
      "source": [
        "class Node:\n",
        "    def __init__(self, data):\n",
        "        self.data = data\n",
        "        self.left = None\n",
        "        self.right = None\n",
        "\n",
        "    def __str__(self):\n",
        "        return str(self.data)\n",
        "\n",
        "class Tree:\n",
        "    def __init__(self, data=None, node=None):\n",
        "        if node is not None:\n",
        "            self.root = node\n",
        "        elif data is not None:\n",
        "            node = Node(data)\n",
        "            self.root = node\n",
        "        else:\n",
        "            self.root = None\n",
        "\n",
        "\n",
        "arvore = Tree(7) \n",
        "arvore.root.left = Node(18)\n",
        "arvore.root.right = Node(14)\n",
        "\n",
        "print(arvore.root)\n",
        "print(arvore.root.right)\n",
        "print(arvore.root.left)"
      ]
    },
    {
      "cell_type": "markdown",
      "source": [
        "## Criando árvore e exibindo ela"
      ],
      "metadata": {
        "id": "XYv4JJ26jETO"
      }
    },
    {
      "cell_type": "code",
      "source": [
        "ROOT = 'root'\n",
        "class Node:\n",
        "    def __init__(self, data):\n",
        "        self.data = data\n",
        "        self.left = None\n",
        "        self.right = None\n",
        "\n",
        "    def __str__(self):\n",
        "        return str(self.data)\n",
        "\n",
        "class Tree:\n",
        "    def __init__(self, data=None, node=None):\n",
        "        if node is not None:\n",
        "            self.root = node\n",
        "        elif data is not None:\n",
        "            node = Node(data)\n",
        "            self.root = node\n",
        "        else:\n",
        "            self.root = None\n",
        "            \n",
        "    def insert(self, value):\n",
        "        pai = None\n",
        "        aux = self.root\n",
        "\n",
        "        while(aux is not None):\n",
        "            pai = aux\n",
        "            if value < aux.data:\n",
        "                aux = aux.left\n",
        "            else:\n",
        "                aux = aux.right\n",
        "\n",
        "        if pai is None:\n",
        "            self.root = Node(value)\n",
        "        elif value < pai.data:\n",
        "            pai.left = Node(value)\n",
        "        else:\n",
        "            pai.right = Node(value)\n",
        "\n",
        "    def inOrder(self, node=None):\n",
        "        if node is None:\n",
        "            node = self.root \n",
        "        \n",
        "        if node.left is not None:\n",
        "            self.inOrder(node.left)\n",
        "\n",
        "        print(node, end=' ')\n",
        "\n",
        "        if node.right is not None:\n",
        "            self.inOrder(node.right)\n",
        "\n",
        "    def min(self, node=ROOT):\n",
        "        if node == ROOT:\n",
        "            node = self.root\n",
        "            \n",
        "        #enquanto tiver filho a esquerda, vou caminhas para a esquerda. quando não tiver mais filho à esquerda, eu pego o valor do elemento.\n",
        "        while(node.left is not None): \n",
        "            node = node.left # tô caminhando\n",
        "        \n",
        "        return node.data\n",
        "        \n",
        "    def max(self, node=ROOT):\n",
        "        if node == ROOT:\n",
        "            node = self.root\n",
        "        \n",
        "        while(node.right is not None):\n",
        "            node = node.right\n",
        "        \n",
        "        return node.data\n",
        "\n",
        "    def sucessor(self, chave):\n",
        "        valores = self.valores(self.root)\n",
        "\n",
        "        if chave in valores:\n",
        "            posicao = valores.index(chave)\n",
        "            \n",
        "        if 0 <= posicao < len(valores) - 1:\n",
        "            return valores[posicao + 1]\n",
        "\n",
        "        return None\n",
        "\n",
        "    def valores(self, node):\n",
        "        if node is not None:\n",
        "            lista = []\n",
        "\n",
        "            if node.left is not None:\n",
        "                esquerda = node.left.data\n",
        "                lista = lista + [esquerda]\n",
        "\n",
        "            if node.right is not None:\n",
        "                direita = node.right.data\n",
        "                lista = lista + [direita]\n",
        "\n",
        "            if node.left is not None:\n",
        "                esquerda = self.valores(node.left)\n",
        "                lista = lista + esquerda\n",
        "\n",
        "            if node.right is not None:\n",
        "                direita = self.valores(node.right)\n",
        "                lista = lista + direita\n",
        "\n",
        "            for i in range(len(lista)-1, -1, -1):\n",
        "                if lista.count(lista[i]) > 1:\n",
        "                    del lista[i]\n",
        "            return lista\n",
        "\n",
        "    def antecessor(self, chave):\n",
        "        valores = self.valores(self.root)\n",
        "\n",
        "        if chave in valores:\n",
        "            posicao = valores.index(chave)\n",
        "\n",
        "            if 0 < posicao < len(valores) - 1:\n",
        "                return valores[posicao - 1]\n",
        "\n",
        "        return None \n",
        "\n",
        "\n",
        "def example_tree():\n",
        "    valores = [61, 89, 66, 43, 51, 16, 55, 11, 79, 77, 82, 32]\n",
        "    tree = Tree()\n",
        "    for e in valores:\n",
        "        tree.insert(e)\n",
        "    return tree\n",
        "\n",
        "import random\n",
        "random.seed(77) #vai congelar os valores aleatórios que foram criados\n",
        "def aleatoria_tree():\n",
        "    values = random.sample(range(1, 100), 12)\n",
        "    tree = Tree()\n",
        "    for v in values:\n",
        "        tree.insert(v)\n",
        "    return tree\n",
        "\n",
        "\n",
        "treeA = example_tree()\n",
        "treeB = aleatoria_tree()\n",
        "print(treeA.inOrder(treeA.root))\n",
        "print(treeA.inOrder(treeB.root))\n",
        "\n",
        "print('Máximo B: ',treeB.max())\n",
        "print('Mínimo B: ',treeB.min())\n",
        "\n",
        "print('Sucessor do 61: ',treeB.sucessor(61))\n",
        "print('Antecessor do 61: ',treeB.antecessor(61))\n",
        "\n"
      ],
      "metadata": {
        "colab": {
          "base_uri": "https://localhost:8080/"
        },
        "id": "532goQ7qfuMV",
        "outputId": "e6f8a3c0-00f0-4335-e612-fa8f769e70e0"
      },
      "execution_count": null,
      "outputs": [
        {
          "output_type": "stream",
          "name": "stdout",
          "text": [
            "11 16 32 43 51 55 61 66 77 79 82 89 None\n",
            "15 19 25 26 31 33 38 42 61 72 79 81 None\n",
            "Máximo B:  81\n",
            "Mínimo B:  15\n",
            "Sucessor do 61:  72\n",
            "Antecessor do 61:  38\n"
          ]
        }
      ]
    },
    {
      "cell_type": "markdown",
      "source": [
        "## Média dos valores armazenados na árvore"
      ],
      "metadata": {
        "id": "Qbtceq1HyTvC"
      }
    },
    {
      "cell_type": "code",
      "source": [
        "ROOT = 'root'\n",
        "class Node:\n",
        "    def __init__(self, data):\n",
        "        self.data = data\n",
        "        self.left = None\n",
        "        self.right = None\n",
        "\n",
        "    def __str__(self):\n",
        "        return str(self.data)\n",
        "\n",
        "class Tree:\n",
        "    def __init__(self, data=None, node=None):\n",
        "        if node is not None:\n",
        "            self.root = node\n",
        "        elif data is not None:\n",
        "            node = Node(data)\n",
        "            self.root = node\n",
        "        else:\n",
        "            self.root = None\n",
        "            \n",
        "    def insert(self, value):\n",
        "        pai = None\n",
        "        aux = self.root\n",
        "\n",
        "        while(aux is not None):\n",
        "            pai = aux\n",
        "            if value < aux.data:\n",
        "                aux = aux.left\n",
        "            else:\n",
        "                aux = aux.right\n",
        "\n",
        "        if pai is None:\n",
        "            self.root = Node(value)\n",
        "        elif value < pai.data:\n",
        "            pai.left = Node(value)\n",
        "        else:\n",
        "            pai.right = Node(value)\n",
        "\n",
        "    def inOrder(self, node=None):\n",
        "        if node is None:\n",
        "            node = self.root \n",
        "        \n",
        "        if node.left is not None:\n",
        "            self.inOrder(node.left)\n",
        "\n",
        "        print(node, end=' ')\n",
        "\n",
        "        if node.right is not None:\n",
        "            self.inOrder(node.right)\n",
        "\n",
        "    def min(self, node=ROOT):\n",
        "        if node == ROOT:\n",
        "            node = self.root\n",
        "            \n",
        "        #enquanto tiver filho a esquerda, vou caminhar para a esquerda. quando não tiver mais filho à esquerda, eu pego o valor do elemento.\n",
        "        while(node.left is not None): \n",
        "            node = node.left # tô caminhando\n",
        "        \n",
        "        return node.data\n",
        "        \n",
        "    def max(self, node=ROOT):\n",
        "        if node == ROOT:\n",
        "            node = self.root\n",
        "        \n",
        "        while(node.right is not None):\n",
        "            node = node.right\n",
        "        \n",
        "        return node.data\n",
        "\n",
        "    def sucessor(self, chave):\n",
        "        valores = self.valores(self.root)\n",
        "\n",
        "        if chave in valores:\n",
        "            posicao = valores.index(chave)\n",
        "            \n",
        "        if 0 <= posicao < len(valores) - 1:\n",
        "            return valores[posicao + 1]\n",
        "\n",
        "        return None\n",
        "\n",
        "    def valores(self, node):\n",
        "        if node is not None:\n",
        "            lista = []\n",
        "\n",
        "            if node.left is not None:\n",
        "                esquerda = node.left.data\n",
        "                lista = lista + [esquerda]\n",
        "\n",
        "            if node.right is not None:\n",
        "                direita = node.right.data\n",
        "                lista = lista + [direita]\n",
        "\n",
        "            if node.left is not None:\n",
        "                esquerda = self.valores(node.left)\n",
        "                lista = lista + esquerda\n",
        "\n",
        "            if node.right is not None:\n",
        "                direita = self.valores(node.right)\n",
        "                lista = lista + direita\n",
        "\n",
        "            for i in range(len(lista)-1, -1, -1):\n",
        "                if lista.count(lista[i]) > 1:\n",
        "                    del lista[i]\n",
        "            return lista\n",
        "\n",
        "    def antecessor(self, chave):\n",
        "        valores = self.valores(self.root)\n",
        "\n",
        "        if chave in valores:\n",
        "            posicao = valores.index(chave)\n",
        "\n",
        "            if 0 < posicao < len(valores) - 1:\n",
        "                return valores[posicao - 1]\n",
        "\n",
        "        return None \n",
        "\n",
        "\n",
        "    def media(self, node=None):    \n",
        "        # transformar numa lista e len e soma\n",
        "        lista = self.valores(self.root)\n",
        "\n",
        "        return sum(lista)/len(lista)\n",
        "\n",
        "\n",
        "import random\n",
        "random.seed(77) #vai congelar os valores aleatórios que foram criados\n",
        "def aleatoria_tree():\n",
        "    values = random.sample(range(1, 100), 12)\n",
        "    tree = Tree()\n",
        "    for v in values:\n",
        "        tree.insert(v)\n",
        "    return tree\n",
        "\n",
        "\n",
        "treeA = aleatoria_tree()\n",
        "print(treeA.inOrder(treeA.root))\n",
        "\n",
        "print('Máximo: ',treeA.max())\n",
        "print('Mínimo: ',treeA.min())\n",
        "print('Média: ', treeA.media(treeA.root))\n",
        "\n",
        "\n"
      ],
      "metadata": {
        "colab": {
          "base_uri": "https://localhost:8080/"
        },
        "outputId": "52274e8a-9546-4471-e702-bf3e379ee738",
        "id": "lduLIG5YyTvO"
      },
      "execution_count": null,
      "outputs": [
        {
          "output_type": "stream",
          "name": "stdout",
          "text": [
            "15 19 25 26 31 33 38 42 61 72 79 81 None\n",
            "Máximo:  81\n",
            "Mínimo:  15\n",
            "Média:  44.45454545454545\n"
          ]
        }
      ]
    },
    {
      "cell_type": "markdown",
      "source": [
        "## questao1 DEU CERTO"
      ],
      "metadata": {
        "id": "FUpWDADEBD29"
      }
    },
    {
      "cell_type": "code",
      "source": [
        "ROOT = \"root\"\n",
        "\n",
        "class Node:\n",
        "    def __init__(self, data):\n",
        "        self.data = data\n",
        "        self.left = None\n",
        "        self.right = None\n",
        "\n",
        "    def __str__(self):\n",
        "        return str(self.data)\n",
        "\n",
        "class Tree:\n",
        "    def __init__(self, data=None, node=None):\n",
        "        if node is not None:\n",
        "            self.root = node\n",
        "        elif data is not None:\n",
        "            node = Node(data)\n",
        "            self.root = node\n",
        "        else:\n",
        "            self.root = None\n",
        "\n",
        "    # Percorrer em ordem\n",
        "    \n",
        "    def inOrder(self, node=None):\n",
        "        if node is None:\n",
        "            node = self.root \n",
        "        \n",
        "        if node.left is not None:\n",
        "            self.inOrder(node.left)\n",
        "\n",
        "        \n",
        "        print(node, end=' ')\n",
        "\n",
        "        if node.right is not None:\n",
        "            self.inOrder(node.right)\n",
        "\n",
        "    # Inserir elemento\n",
        "    def insert(self, value):\n",
        "        pai = None\n",
        "        aux = self.root\n",
        "\n",
        "        while(aux is not None):\n",
        "            pai = aux\n",
        "            if value < aux.data:\n",
        "                aux = aux.left\n",
        "            else:\n",
        "                aux = aux.right\n",
        "\n",
        "        if pai is None:\n",
        "            self.root = Node(value)\n",
        "        elif value < pai.data:\n",
        "            pai.left = Node(value)\n",
        "        else:\n",
        "            pai.right = Node(value)\n",
        "\n",
        "    # Buscar elemento\n",
        "    def find(self, value):\n",
        "        node = self._find(value, self.root)\n",
        "        if node is None:\n",
        "            return None\n",
        "        else:\n",
        "            return node\n",
        "\n",
        "    def _find(self, value, node):\n",
        "        if node is None:\n",
        "            return node\n",
        "        if node.data == value:\n",
        "            return node ###\n",
        "\n",
        "        if value < node.data:\n",
        "            return self._find(value, node.left)\n",
        "        \n",
        "        return self._find(value, node.right)\n",
        "\n",
        "    def q_filhos(self, value):\n",
        "        pai = self.find(value) \n",
        "        if pai is not None:\n",
        "            if pai.left is None and pai.right is None:\n",
        "                filhos = 0\n",
        "            elif pai.left is None or pai.right is None:\n",
        "                filhos = 1\n",
        "            elif pai.left is not None and pai.right is not None:\n",
        "                filhos = 2\n",
        "            return filhos\n",
        "        else:\n",
        "            return 'ERRO'\n",
        "        \n",
        "\n",
        "\n",
        "tree = Tree()\n",
        "entrada = input().split()\n",
        "for e in entrada:\n",
        "    tree.insert(int(e))\n",
        "\n",
        "num = int(input())\n",
        "\n",
        "\n",
        "print(tree.q_filhos(num))\n",
        "\n",
        "# print(tree.find(8))\n",
        "\n",
        "\n"
      ],
      "metadata": {
        "colab": {
          "base_uri": "https://localhost:8080/"
        },
        "id": "wzQDX4fNBFj0",
        "outputId": "4dc87ee9-fd35-45d9-d620-af160037679e"
      },
      "execution_count": null,
      "outputs": [
        {
          "output_type": "stream",
          "name": "stdout",
          "text": [
            "2 4 6 8 10\n",
            "6\n",
            "1\n"
          ]
        }
      ]
    },
    {
      "cell_type": "markdown",
      "source": [
        "##questao2 \n",
        "\n",
        "número de folhas da árvore"
      ],
      "metadata": {
        "id": "SY74pBS5GMFC"
      }
    },
    {
      "cell_type": "code",
      "source": [
        "ROOT = \"root\"\n",
        "\n",
        "class Node:\n",
        "    def __init__(self, data):\n",
        "        self.data = data\n",
        "        self.left = None\n",
        "        self.right = None\n",
        "\n",
        "    def __str__(self):\n",
        "        return str(self.data)\n",
        "\n",
        "class Tree:\n",
        "    def __init__(self, data=None, node=None):\n",
        "        if node is not None:\n",
        "            self.root = node\n",
        "        elif data is not None:\n",
        "            node = Node(data)\n",
        "            self.root = node\n",
        "        else:\n",
        "            self.root = None\n",
        "\n",
        "    # Percorrer em ordem\n",
        "    def inOrder(self, node=None):\n",
        "        if node is None:\n",
        "            node = self.root \n",
        "        \n",
        "        if node.left is not None:\n",
        "            self.inOrder(node.left)\n",
        "\n",
        "        print(node, end=' ')\n",
        "\n",
        "        if node.right is not None:\n",
        "            self.inOrder(node.right)\n",
        "\n",
        "    # Inserir elemento\n",
        "    def insert(self, value):\n",
        "        pai = None\n",
        "        aux = self.root\n",
        "\n",
        "        while(aux is not None):\n",
        "            pai = aux\n",
        "            if value < aux.data:\n",
        "                aux = aux.left\n",
        "            else:\n",
        "                aux = aux.right\n",
        "\n",
        "        if pai is None:\n",
        "            self.root = Node(value)\n",
        "        elif value < pai.data:\n",
        "            pai.left = Node(value)\n",
        "        else:\n",
        "            pai.right = Node(value)\n",
        "\n",
        "    \n",
        "\n",
        "    def folhas(self, node=None):\n",
        "        count_left = 0\n",
        "        count_right = 0\n",
        "        if node is None:\n",
        "            node = self.root \n",
        "            count = 1\n",
        "    \n",
        "        if node.left is None:\n",
        "            count_left += 1\n",
        "\n",
        "        if node.right is None:\n",
        "            count_right += 1\n",
        "\n",
        "        folha = 1\n",
        "        if count_left == 0 and count_right == 0:\n",
        "            folha += 1\n",
        "\n",
        "        return folha\n",
        "        pass\n",
        "    \n",
        "\n",
        "# percorrer a arvore em ordem, e para cada nó, se ele não tiver filho a direita nem a esqueda, conta ele\n",
        "tree = Tree()\n",
        "entrada = input().split()\n",
        "for e in entrada:\n",
        "    tree.insert(int(e))\n",
        "\n",
        "\n",
        "tree.folhas(tree.root)"
      ],
      "metadata": {
        "id": "meC-ohPLGOZd"
      },
      "execution_count": null,
      "outputs": []
    },
    {
      "cell_type": "markdown",
      "source": [
        "# Heap"
      ],
      "metadata": {
        "id": "IRETQiLO0K5e"
      }
    },
    {
      "cell_type": "code",
      "source": [
        "class MinHeap:\n",
        "    def __init__(self):\n",
        "        self.heap_list = [0]\n",
        "        self.current_size = 0\n",
        "\n",
        "    def buscaMin(self, value):\n",
        "        return self.heap_list[1]"
      ],
      "metadata": {
        "id": "X2FCC28U0Man"
      },
      "execution_count": null,
      "outputs": []
    },
    {
      "cell_type": "code",
      "source": [
        "def inserir(self, v):\n",
        "    novo = No(v,None,None) # cria um novo Nó\n",
        "    if self.root == None:\n",
        "        self.root = novo\n",
        "    else: # se nao for a raiz\n",
        "        atual = self.root\n",
        "        while True:\n",
        "            anterior = atual\n",
        "            if v < atual.item: # ir para esquerda\n",
        "                    atual = atual.esq\n",
        "                    if atual == None:\n",
        "                        anterior.esq = novo\n",
        "                        return\n",
        "            # fim da condição ir a esquerda\n",
        "            else: # ir para direita\n",
        "                    atual = atual.dir\n",
        "                    if atual == None:\n",
        "                            anterior.dir = novo\n",
        "                            return\n",
        "            # fim da condição ir a direita\n",
        "\n"
      ],
      "metadata": {
        "id": "8JOF_H4-19dr"
      },
      "execution_count": null,
      "outputs": []
    },
    {
      "cell_type": "code",
      "source": [
        "def inserir(self, value):\n",
        "    novo = Node(value)\n",
        "    if self.root is None:\n",
        "        self.root = novo\n",
        "    else:\n",
        "        atual = self.root\n",
        "        while True:\n",
        "            anterior = atual\n",
        "            if value < atual.data:\n",
        "                    atual = atual.left\n",
        "                    if atual is None:\n",
        "                        anterior.left = novo\n",
        "                        return\n",
        "            else: \n",
        "                atual = atual.right\n",
        "                if atual is None:\n",
        "                        anterior.right = novo\n",
        "                        return"
      ],
      "metadata": {
        "id": "6ZqVggW_2vHx"
      },
      "execution_count": null,
      "outputs": []
    }
  ],
  "metadata": {
    "colab": {
      "provenance": [],
      "authorship_tag": "ABX9TyPrHRTANP0Cu2QDAcPi3b7f",
      "include_colab_link": true
    },
    "kernelspec": {
      "display_name": "Python 3",
      "name": "python3"
    },
    "language_info": {
      "name": "python"
    }
  },
  "nbformat": 4,
  "nbformat_minor": 0
}